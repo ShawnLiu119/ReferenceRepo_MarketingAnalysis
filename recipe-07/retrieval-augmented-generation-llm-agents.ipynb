{
 "cells": [
  {
   "cell_type": "markdown",
   "id": "8c057420-7c01-49b7-8242-c8b4be98d0c0",
   "metadata": {
    "editable": true,
    "slideshow": {
     "slide_type": ""
    },
    "tags": []
   },
   "source": [
    "# Retrieval-augmented Generation Using Agents\n",
    "\n",
    "In this notebook, we demonstrate how the information can be retrieved from an external system using an LLM-based agent. We use the Wikipedia search API."
   ]
  },
  {
   "cell_type": "markdown",
   "id": "10e9f802-f19c-4b5b-a2cf-4bfe3d5ec92f",
   "metadata": {
    "editable": true,
    "slideshow": {
     "slide_type": ""
    },
    "tags": []
   },
   "source": [
    "## Environment Setup and Initialization"
   ]
  },
  {
   "cell_type": "code",
   "execution_count": 52,
   "id": "be84dfbb-c690-4d60-abaf-de53f7ba4d29",
   "metadata": {
    "editable": true,
    "slideshow": {
     "slide_type": ""
    },
    "tags": []
   },
   "outputs": [],
   "source": [
    "#\n",
    "# Initialize LLM provider\n",
    "# (google-cloud-aiplatform must be installed)\n",
    "#\n",
    "from google.cloud import aiplatform\n",
    "aiplatform.init(\n",
    "    project='<< specify your project name here >>',\n",
    "    location='us-central1'\n",
    ")"
   ]
  },
  {
   "cell_type": "markdown",
   "id": "4c7f56cb-0736-4b7c-a3cf-6e8e265592e4",
   "metadata": {
    "editable": true,
    "slideshow": {
     "slide_type": ""
    },
    "tags": []
   },
   "source": [
    "## Action Agents"
   ]
  },
  {
   "cell_type": "code",
   "execution_count": 54,
   "id": "cdce1133-22f1-48eb-9790-729aff8b343a",
   "metadata": {
    "editable": true,
    "slideshow": {
     "slide_type": ""
    },
    "tags": []
   },
   "outputs": [],
   "source": [
    "from langchain.llms import VertexAI\n",
    "\n",
    "from langchain import Wikipedia\n",
    "from langchain.agents import initialize_agent, Tool\n",
    "from langchain.agents import AgentType\n",
    "from langchain.agents.react.base import DocstoreExplorer\n",
    "\n",
    "docstore = DocstoreExplorer(Wikipedia())\n",
    "tools = [\n",
    "    Tool(\n",
    "        name=\"Search\",\n",
    "        func=docstore.search,\n",
    "        description=\"useful for when you need to ask with search\",\n",
    "    ),\n",
    "    Tool(\n",
    "        name=\"Lookup\",\n",
    "        func=docstore.lookup,\n",
    "        description=\"useful for when you need to ask with lookup\",\n",
    "    ),\n",
    "]\n",
    "\n",
    "llm = VertexAI()\n",
    "react = initialize_agent(tools, llm, agent=AgentType.REACT_DOCSTORE, verbose=True)"
   ]
  },
  {
   "cell_type": "code",
   "execution_count": 60,
   "id": "76598692-6f0b-45d9-8e08-5788117dcf2f",
   "metadata": {
    "editable": true,
    "slideshow": {
     "slide_type": ""
    },
    "tags": []
   },
   "outputs": [
    {
     "name": "stdout",
     "output_type": "stream",
     "text": [
      "\n",
      "\n",
      "\u001b[1m> Entering new AgentExecutor chain...\u001b[0m\n",
      "\u001b[32;1m\u001b[1;3mThought: I need to search Pfizer Inc. and find the percentage of its revenue that comes from the US.\n",
      "Action: Search[Pfizer Inc.]\u001b[0m\n",
      "Observation: \u001b[36;1m\u001b[1;3mPfizer Inc. ( FY-zər) is an American multinational pharmaceutical and biotechnology corporation headquartered at The Spiral in Manhattan, New York City. The company was established in 1849 in New York by two German entrepreneurs, Charles Pfizer (1824–1906) and his cousin Charles F. Erhart (1821–1891).\n",
      "Pfizer develops and produces medicines and vaccines for immunology, oncology, cardiology, endocrinology, and neurology. The company's largest products by sales are the Pfizer–BioNTech COVID-19 vaccine ($37 billion in 2022 revenues), Nirmatrelvir/ritonavir ($18 billion in 2022 revenues), Apixaban ($6 billion in 2022 revenues), a pneumococcal conjugate vaccine ($6 billion in 2022 revenues), and Palbociclib ($5 billion in 2022 revenues). In 2022, 42% of the company's revenues came from the United States, 8% came from Japan, and 50% came from other countries.Pfizer was a component of the Dow Jones Industrial Average stock market index from 2004 to August 2020. The company ranks 43rd on the Fortune 500 and 39th on the Forbes Global 2000.\u001b[0m\n",
      "Thought:\u001b[32;1m\u001b[1;3mThe paragraph says \"In 2022, 42% of the company's revenues came from the United States\". So the answer is 42%.\n",
      "Action: Finish[42%]\u001b[0m\n",
      "\n",
      "\u001b[1m> Finished chain.\u001b[0m\n"
     ]
    },
    {
     "data": {
      "text/plain": [
       "'42%'"
      ]
     },
     "execution_count": 60,
     "metadata": {},
     "output_type": "execute_result"
    }
   ],
   "source": [
    "question = \"What percentage of the Pfizer Inc. revenue comes from the US?\"\n",
    "react.run(question)"
   ]
  },
  {
   "cell_type": "code",
   "execution_count": null,
   "id": "ee5c0967-a688-4535-b0ff-513e2c5dd0ca",
   "metadata": {},
   "outputs": [],
   "source": []
  }
 ],
 "metadata": {
  "kernelspec": {
   "display_name": "py310",
   "language": "python",
   "name": "py310"
  },
  "language_info": {
   "codemirror_mode": {
    "name": "ipython",
    "version": 3
   },
   "file_extension": ".py",
   "mimetype": "text/x-python",
   "name": "python",
   "nbconvert_exporter": "python",
   "pygments_lexer": "ipython3",
   "version": "3.10.12"
  }
 },
 "nbformat": 4,
 "nbformat_minor": 5
}
