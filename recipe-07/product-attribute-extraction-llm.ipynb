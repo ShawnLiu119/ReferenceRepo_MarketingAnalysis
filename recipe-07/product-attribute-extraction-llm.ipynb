{
 "cells": [
  {
   "cell_type": "markdown",
   "id": "a6db373f-9df1-4fcd-ade1-cb38d90b05f8",
   "metadata": {
    "tags": []
   },
   "source": [
    "# Product Attribute Discovery, Extraction, and Harmonization Using LLMs\n",
    "\n",
    "In this notebook, we demonstrate how LLMs can be used to extract and harmonize product attributes. The extracted attributes are supposed to be used as inputs to search engines, faceted catalog nativation, and other applications that require high-quality product data. Intelligent attribute extraction and harmonization is partcularly useful in applications with multiple sellers or suppliers such as marketplaces.\n",
    "\n",
    "We consider the following scenarios:\n",
    "  1. We receive a product description and need to determine whether it is a new or known (registered) product type. If it is a new product type, we need to generate a schema (list of attribute names) for it.\n",
    "  1. Assuming that the product schema is known (either an old schema fetched from a repositoy or new schema is generated), we need to extract the attributes from the product description. In particular, complex attributes might need to be generated.\n",
    "  1. Extracted or manually entered attributes need to be harmonized, so that they use the same measures, taxonomy, etc. \n",
    "\n",
    "We use Langchain as an abstraction layer to invoke LLMs. GCP Vertex AI is used as an LLM provider, but other proprietary LLMs can be used equally well. "
   ]
  },
  {
   "cell_type": "markdown",
   "id": "bd06afed-dbe3-4ce1-9333-bfc3b067e7f5",
   "metadata": {},
   "source": [
    "## Environment Setup and Initialization"
   ]
  },
  {
   "cell_type": "code",
   "execution_count": 106,
   "id": "0c945513-6fab-4d56-a0fd-1b77f6a977e1",
   "metadata": {
    "editable": true,
    "slideshow": {
     "slide_type": ""
    },
    "tags": []
   },
   "outputs": [
    {
     "data": {
      "text/plain": [
       "'The largest industries in the world are the automotive industry, the oil and gas industry, the pharmaceutical industry, the food and beverage industry, and the telecommunications industry. The automotive industry is the largest industry in the world, with a global market of over $2.5 trillion. The oil and gas industry is the second largest industry in the world, with a global market of over $2.2 trillion. The pharmaceutical industry is the third largest industry in the world, with a global market of over $1.2 trillion. The food and beverage industry is the fourth largest industry in the world, with a global market of over $1'"
      ]
     },
     "execution_count": 106,
     "metadata": {},
     "output_type": "execute_result"
    }
   ],
   "source": [
    "#\n",
    "# Initialize LLM provider\n",
    "# (google-cloud-aiplatform must be installed)\n",
    "#\n",
    "from google.cloud import aiplatform\n",
    "aiplatform.init(\n",
    "    project='<< specify your project name here >>',\n",
    "    location='us-central1'\n",
    ")\n",
    "\n",
    "#\n",
    "# Helper function for calling LLM using a prompt template and one argument\n",
    "# Parameter name in the template must be 'input'\n",
    "#\n",
    "from langchain.llms import VertexAI\n",
    "from langchain import PromptTemplate, LLMChain\n",
    "\n",
    "def query_llm_with_one_argument(query_template, argument):\n",
    "    prompt = PromptTemplate(template=query_template, input_variables=['input'])\n",
    "\n",
    "    llm = VertexAI()\n",
    "    llm_chain = LLMChain(prompt=prompt, llm=llm)\n",
    "\n",
    "    return llm_chain.run(argument)    \n",
    "\n",
    "#\n",
    "# Test Langchain\n",
    "#\n",
    "query = \"Question: {input} Answer: Let's think step by step.\"\n",
    "question = \"What are the largest industries in the world?\"\n",
    "query_llm_with_one_argument(query, question)"
   ]
  },
  {
   "cell_type": "markdown",
   "id": "737b37b4-5aa3-4e51-9080-1f08b8bde3ef",
   "metadata": {},
   "source": [
    "## Attribute Discovery"
   ]
  },
  {
   "cell_type": "code",
   "execution_count": 20,
   "id": "2dc00708-f7ce-4e6a-9741-b8e78f264cfb",
   "metadata": {},
   "outputs": [],
   "source": [
    "product_data = [\n",
    "\"\"\"\n",
    "Title: Caannasweis 10 Pieces Pots and Pans Non Stick Pan White Pot Sets Nonstick Cookware Sets w/ Grill Pan\n",
    "Description:\n",
    "1: These cookware sets are included 1*9.5” frying pan, 1* 8” frying pan, 1*1.5QT sauce pot with glass lid, 1*4.5QT deep frying pan with lid, 1*5QT stock pot with glass lid, and 1*9.5” square grill pan. \n",
    "This 10-piece granite pots and pans set is everything you need to get cooking in your kitchen. Not just that, the cooking set also makes an appreciable housewarming gift or holiday gift for your loved ones. \n",
    "2: Our pots and pans use scratch-proof nonstick granite coating, which can keep food sliding smoothly along the surface, preventing food to stick, and making cooking easier. Sturdy interiors can avoid \n",
    "chipping and coming off. \n",
    "3: These nonstick cookware sets are free of PFOA, PFOS, lead & cadmium(Have FDA certification for SGS testing). Giving you and your family a healthier and easier home culinary experience. \n",
    "4: The pots and pans in this cookware set do not have a magnetic induction bottom, which allows faster heating on other cooktops, designed for people who do not use induction cooktops. \n",
    "5: All-in-one design. Rivetless interior to prevent snags and food buildup. Just rinse with a rag or water to finish cleaning.\n",
    "\"\"\"\n",
    "]"
   ]
  },
  {
   "cell_type": "code",
   "execution_count": 101,
   "id": "d15efbb2-1999-41aa-8d15-6df5cf861699",
   "metadata": {},
   "outputs": [
    {
     "data": {
      "text/plain": [
       "'{ {\"category_name\": \"Cookware Sets\"}, {\"product_attribute_names\": [\"Brand\", \"Material\", \"Color\", \"Number of Pieces\"]} }'"
      ]
     },
     "execution_count": 101,
     "metadata": {},
     "output_type": "execute_result"
    }
   ],
   "source": [
    "discovery_template = \"\"\"\n",
    "Your goal is to determine the product category and propose attributes for this category based on the user's input. The output must follow the format describe below.\n",
    "\n",
    "```TypeScript\n",
    "category: {{                               // Category metadata      \n",
    "   category_name: string                   // Product type\n",
    "   product_attribute_names: Array<string>  // A list of product attribute names that should be used to describe products in this category (not more than 4 attributes)\n",
    "}}\n",
    "```\n",
    "\n",
    "Please output the extracted information in JSON format. Do NOT add any clarifying information. Output MUST follow the schema above. Do NOT add any additional fields that do not appear in the schema.\n",
    "\n",
    "Input: Noriega Glass Table Vase. A retro green tone meets a classic shape: This bud vase has a sleek, eye-catching look that's inspired by vintage design.\n",
    "Output: {{ {{\"category_name\": \"Table Vases\"}}, {{\"product_attribute_names\": [\"Brand\", \"Size\", \"Vase Shape\", \"Indoor Use Only\"]}} }}\n",
    "\n",
    "Input: {input}\n",
    "Output:\n",
    "\"\"\"\n",
    "\n",
    "query_llm_with_one_argument(discovery_template, product_data[0])"
   ]
  },
  {
   "cell_type": "markdown",
   "id": "f116f09f-8e69-47fb-83b9-042157ea1715",
   "metadata": {},
   "source": [
    "## Attribute Extraction"
   ]
  },
  {
   "cell_type": "code",
   "execution_count": 103,
   "id": "075b7743-e1ee-45ad-a168-53a34a3be170",
   "metadata": {
    "editable": true,
    "slideshow": {
     "slide_type": ""
    },
    "tags": []
   },
   "outputs": [
    {
     "data": {
      "text/plain": [
       "'{ {\"brand\": \"Caannasweis\"}, {\"material\": \"Granite\"}, {\"category\": \"Set\"}, {\"items_count\": 10}, {\"features\": [\"nonstick coating\", \"rivetless interior\", \"FDA certified\"]}  }'"
      ]
     },
     "execution_count": 103,
     "metadata": {},
     "output_type": "execute_result"
    }
   ],
   "source": [
    "extraction_template = \"\"\"\n",
    "Your goal is to extract structured information from the user's input that matches the form described below. When extracting information please make sure it matches the type information exactly. Do not add any attributes that do not appear in the schema shown below.\n",
    "\n",
    "```TypeScript\n",
    "product: {{                 // Product attributes\n",
    "   brand: string            // The name of the product's brand\n",
    "   material: string         // The primary material the product is made of\n",
    "   category: string         // Product type such as set, pot, or pan\n",
    "   items_count: integer     // Number of items\n",
    "   features: Array<string>  // A list of the main product features (not more than three)\n",
    "}}\n",
    "```\n",
    "\n",
    "Please output the extracted information in JSON format. Do NOT add any clarifying information. Output MUST follow the schema above. Do NOT add any additional fields that do not appear in the schema.\n",
    "\n",
    "Input: Gotham Aluminium Cookware 12 Pieces Set. The nonstick cooking surface is coated 3x, and reinforced with ceramic and titanium to deliver the ultimate food release. Dishwasher safe.\n",
    "Output: {{ {{\"brand\": \"Gotham\"}}, {{\"material\": \"Aluminium\"}}, {{\"category\": \"Set\"}}, {{\"items_count\": 5}}, {{\"features\": [\"ceramic coating\", \"dishwasher safe\"]}}  }}\n",
    "\n",
    "Input: {input}\n",
    "Output:\n",
    "\"\"\"\n",
    "\n",
    "query_llm_with_one_argument(extraction_template, product_data[0])"
   ]
  },
  {
   "cell_type": "code",
   "execution_count": 118,
   "id": "ea023520-183f-4a65-abc4-676ca6b46dc0",
   "metadata": {
    "editable": true,
    "slideshow": {
     "slide_type": ""
    },
    "tags": []
   },
   "outputs": [
    {
     "data": {
      "text/plain": [
       "'Caannasweis 10 Pieces Pots and Pans Non Stick Pan White Pot Sets Nonstick Cookware Sets w/ Grill Pan - Affordable Price'"
      ]
     },
     "execution_count": 118,
     "metadata": {},
     "output_type": "execute_result"
    }
   ],
   "source": [
    "#\n",
    "# A more advanced example is generation of complex attributes \n",
    "# such search engine optimization (SEO) tags and personalized product page titles \n",
    "#\n",
    "\n",
    "social_media_template = \"\"\"\n",
    "Create a new product page title specifically for the price-sensitive customer segment based on the product description provided below. \n",
    "\n",
    "Input: {input}\n",
    "Output:\n",
    "\"\"\"\n",
    "\n",
    "query_llm_with_one_argument(social_media_template, product_data[0])"
   ]
  },
  {
   "cell_type": "markdown",
   "id": "20342c7a-99ea-4df9-93be-407aed6c1451",
   "metadata": {},
   "source": [
    "## Attribute Harmonization"
   ]
  },
  {
   "cell_type": "code",
   "execution_count": 80,
   "id": "6cc2a66a-ab69-43dd-8ad0-3e735e0ed52d",
   "metadata": {},
   "outputs": [],
   "source": [
    "product_attributes_raw = [\n",
    "\"\"\"\n",
    "{ \"style\" : \"classic blue polka dot pattern\", \"dimensions\" : \"2-3/8 inch x 8-5/16 inch x 1/2 inch\" }\n",
    "\"\"\"\n",
    "]"
   ]
  },
  {
   "cell_type": "code",
   "execution_count": 104,
   "id": "f0d64446-ba53-4f8b-9bbb-53e2bfc8d083",
   "metadata": {},
   "outputs": [
    {
     "data": {
      "text/plain": [
       "'{ \"style\" : \"Traditional\", \"dimensions\" : [2.375, 8.3125, 0.5] }'"
      ]
     },
     "execution_count": 104,
     "metadata": {},
     "output_type": "execute_result"
    }
   ],
   "source": [
    "harmonization_template = \"\"\"\n",
    "Your goal is to format product attribute values in the user's input to match the format described below.\n",
    "\n",
    "```TypeScript\n",
    "product: {{                   // Product attributes\n",
    "    style: string             // One of the following three style values: Traditional, Modern, Nature \n",
    "    dimensions: Array<float>  // An array of floating-point values expressed in inches \n",
    "}}\n",
    "```\n",
    "\n",
    "Please output the extracted information in JSON format. Do NOT add any clarifying information.\n",
    "\n",
    "Input: {{ \"style\" : \"wooden texture\", \"dimensions\" : \"8-1/2” x 1-1/16”\" }}\n",
    "Output: {{ \"style\" : \"Nature\", \"dimensions\" : [8.5, 1.0625], }}\n",
    "\n",
    "Input: {{ \"style\" : \"abstract hexagons\", \"dimensions\" : \"2/5 inch x 2 inch\" }}\n",
    "Output: {{ \"style\" : \"Modern\", \"dimensions\" : [0.4, 2] }}\n",
    "\n",
    "Input: {input}\n",
    "Output:\n",
    "\"\"\"\n",
    "\n",
    "query_llm_with_one_argument(harmonization_template, product_attributes_raw[0])"
   ]
  },
  {
   "cell_type": "code",
   "execution_count": null,
   "id": "359eea36-fe4e-4447-a105-931874010420",
   "metadata": {},
   "outputs": [],
   "source": []
  }
 ],
 "metadata": {
  "kernelspec": {
   "display_name": "py310",
   "language": "python",
   "name": "py310"
  },
  "language_info": {
   "codemirror_mode": {
    "name": "ipython",
    "version": 3
   },
   "file_extension": ".py",
   "mimetype": "text/x-python",
   "name": "python",
   "nbconvert_exporter": "python",
   "pygments_lexer": "ipython3",
   "version": "3.10.12"
  }
 },
 "nbformat": 4,
 "nbformat_minor": 5
}
